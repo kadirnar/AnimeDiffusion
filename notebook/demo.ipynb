{
 "cells": [
  {
   "cell_type": "markdown",
   "metadata": {},
   "source": [
    "## Latent Consistency Model (LCM)"
   ]
  },
  {
   "cell_type": "code",
   "execution_count": null,
   "metadata": {},
   "outputs": [],
   "source": [
    "import sys\n",
    "\n",
    "sys.path.append('../')\n",
    "\n",
    "from animediffusion.pipelines.lcm_sd_txt2img import LatentConsistencyModelStableTxt2ImgPipeline\n",
    "from animediffusion.pipelines.lcm_sd_img2img import LatentConsistencyModelStableImg2ImgPipeline\n",
    "from PIL import Image\n",
    "import torch"
   ]
  },
  {
   "cell_type": "markdown",
   "metadata": {},
   "source": [
    "### LCM Text2Image"
   ]
  },
  {
   "cell_type": "code",
   "execution_count": null,
   "metadata": {},
   "outputs": [],
   "source": [
    "model_id = \"SimianLuo/LCM_Dreamshaper_v7\"\n",
    "load_model = LatentConsistencyModelStableTxt2ImgPipeline(stable_model_id=model_id)\n",
    "pipeline = load_model.pipeline"
   ]
  },
  {
   "cell_type": "code",
   "execution_count": null,
   "metadata": {},
   "outputs": [],
   "source": [
    "\"\"\"\n",
    "# https://huggingface.co/docs/diffusers/v0.24.0/optimization/\n",
    "\n",
    "from diffusers.models.attention_processor import AttnProcessor2_0\n",
    "from diffusers import AutoencoderTiny\n",
    "\n",
    "vae_name =  \"madebyollin/taesd\" # or \"madebyollin/taesdxl\"\n",
    "pipeline.vae = AutoencoderTiny.from_pretrained(\n",
    "    vae_name,\n",
    "    torch_dtype=torch.float16,\n",
    "    use_safetensors=True,\n",
    ")\n",
    "\n",
    "pipeline.enable_xformers_memory_efficient_attention()\n",
    "pipeline.unet = pipeline.unet.to(memory_format=torch.channels_last)\n",
    "pipeline.unet.set_attn_processor(AttnProcessor2_0())\n",
    "pipeline.enable_vae_slicing()\n",
    "pipeline.unet.to(memory_format=torch.channels_last)\n",
    "pipeline.to(\"cuda\")\n",
    "print(\"Done\")\n",
    "\"\"\""
   ]
  },
  {
   "cell_type": "code",
   "execution_count": null,
   "metadata": {},
   "outputs": [],
   "source": [
    "prompt= \"a photo of a anime girl\"\n",
    "height=512\n",
    "width=512\n",
    "num_inference_steps=4\n",
    "original_inference_steps=None\n",
    "timesteps=None\n",
    "guidance_scale=8.5\n",
    "num_images_per_prompt=1\n",
    "generator=torch.manual_seed(0)\n",
    "prompt_embeds=None\n",
    "clip_skip=None"
   ]
  },
  {
   "cell_type": "code",
   "execution_count": null,
   "metadata": {},
   "outputs": [],
   "source": [
    "lcm_txt2img_results = pipeline(\n",
    "    prompt=prompt,\n",
    "    height=height,\n",
    "    width=width,\n",
    "    num_inference_steps=num_inference_steps,\n",
    "    original_inference_steps=original_inference_steps,\n",
    "    timesteps=timesteps,\n",
    "    guidance_scale=guidance_scale,\n",
    "    num_images_per_prompt=num_images_per_prompt,\n",
    "    generator=generator,\n",
    "    prompt_embeds=prompt_embeds,\n",
    "    clip_skip=clip_skip,\n",
    ")[0]"
   ]
  },
  {
   "cell_type": "code",
   "execution_count": null,
   "metadata": {},
   "outputs": [],
   "source": [
    "lcm_txt2img_results[0][0].save(\"test.png\")"
   ]
  },
  {
   "cell_type": "markdown",
   "metadata": {},
   "source": [
    "### LCM Image2Image"
   ]
  },
  {
   "cell_type": "code",
   "execution_count": null,
   "metadata": {},
   "outputs": [],
   "source": [
    "import sys\n",
    "\n",
    "sys.path.append('../')\n",
    "\n",
    "from animediffusion.pipelines.lcm_sd_txt2img import LatentConsistencyModelStableTxt2ImgPipeline\n",
    "from animediffusion.pipelines.lcm_sd_img2img import LatentConsistencyModelStableImg2ImgPipeline\n",
    "from PIL import Image\n",
    "import torch\n",
    "\n",
    "load_model = LatentConsistencyModelStableImg2ImgPipeline(stable_model_id='SimianLuo/LCM_Dreamshaper_v7')\n",
    "pipeline = load_model.pipeline"
   ]
  },
  {
   "cell_type": "code",
   "execution_count": null,
   "metadata": {},
   "outputs": [],
   "source": [
    "\"\"\"\n",
    "# https://huggingface.co/docs/diffusers/v0.24.0/optimization/\n",
    "\n",
    "from diffusers.models.attention_processor import AttnProcessor2_0\n",
    "from diffusers import AutoencoderTiny\n",
    "\n",
    "vae_name =  \"madebyollin/taesd\" # or \"madebyollin/taesdxl\"\n",
    "pipeline.vae = AutoencoderTiny.from_pretrained(\n",
    "    vae_name,\n",
    "    torch_dtype=torch.float16,\n",
    "    use_safetensors=True,\n",
    ")\n",
    "\n",
    "pipeline.enable_xformers_memory_efficient_attention()\n",
    "pipeline.unet = pipeline.unet.to(memory_format=torch.channels_last)\n",
    "pipeline.unet.set_attn_processor(AttnProcessor2_0())\n",
    "pipeline.enable_vae_slicing()\n",
    "pipeline.unet.to(memory_format=torch.channels_last)\n",
    "pipeline.to(\"cuda\")\n",
    "print(\"Done\")\n",
    "\"\"\""
   ]
  },
  {
   "cell_type": "code",
   "execution_count": null,
   "metadata": {},
   "outputs": [],
   "source": [
    "image = Image.open('test.png')\n",
    "\n",
    "prompt=\"a photo of a anime\"\n",
    "image= image\n",
    "num_inference_steps=4\n",
    "strength=0.8\n",
    "original_inference_steps=None\n",
    "timesteps=None\n",
    "guidance_scale=8.5\n",
    "num_images_per_prompt=1\n",
    "generator=torch.manual_seed(0)\n",
    "prompt_embeds=None\n",
    "clip_skip=None"
   ]
  },
  {
   "cell_type": "code",
   "execution_count": null,
   "metadata": {},
   "outputs": [],
   "source": [
    "output_img2img = pipeline(\n",
    "    prompt=prompt,\n",
    "    image=image,\n",
    "    num_inference_steps=num_inference_steps,\n",
    "    strength=strength,\n",
    "    original_inference_steps=original_inference_steps,\n",
    "    timesteps=timesteps,\n",
    "    guidance_scale=guidance_scale,\n",
    "    num_images_per_prompt=num_images_per_prompt,\n",
    "    generator=generator,\n",
    "    prompt_embeds=prompt_embeds,\n",
    "    clip_skip=clip_skip,\n",
    ")[0]"
   ]
  },
  {
   "cell_type": "code",
   "execution_count": null,
   "metadata": {},
   "outputs": [],
   "source": [
    "output_img2img[0]"
   ]
  }
 ],
 "metadata": {
  "kernelspec": {
   "display_name": "animeup",
   "language": "python",
   "name": "python3"
  },
  "language_info": {
   "codemirror_mode": {
    "name": "ipython",
    "version": 3
   },
   "file_extension": ".py",
   "mimetype": "text/x-python",
   "name": "python",
   "nbconvert_exporter": "python",
   "pygments_lexer": "ipython3",
   "version": "3.8.18"
  }
 },
 "nbformat": 4,
 "nbformat_minor": 2
}
